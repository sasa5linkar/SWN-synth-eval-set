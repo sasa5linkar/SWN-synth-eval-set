{
 "cells": [
  {
   "cell_type": "code",
   "execution_count": 1,
   "metadata": {},
   "outputs": [
    {
     "name": "stdout",
     "output_type": "stream",
     "text": [
      "Synset ENG30-07010821-n lacks literals 24612\n"
     ]
    }
   ],
   "source": [
    "from sprwn_util import load_converted_synsets_from_file"
   ]
  },
  {
   "cell_type": "code",
   "execution_count": 2,
   "metadata": {},
   "outputs": [],
   "source": [
    "list_synsets = load_converted_synsets_from_file(\"converted_synsets\")"
   ]
  },
  {
   "cell_type": "code",
   "execution_count": 3,
   "metadata": {},
   "outputs": [
    {
     "data": {
      "text/plain": [
       "2956"
      ]
     },
     "execution_count": 3,
     "metadata": {},
     "output_type": "execute_result"
    }
   ],
   "source": [
    "len(list_synsets)"
   ]
  },
  {
   "cell_type": "code",
   "execution_count": 4,
   "metadata": {},
   "outputs": [
    {
     "data": {
      "text/plain": [
       "{'ILI': 'ENG30-08274923-n',\n",
       " 'definition': 'akademski svet',\n",
       " 'lemma_names': ['akademija', 'univerzitet'],\n",
       " 'sentiment_SWN': (0.0, 0.0),\n",
       " 'sentiment_lexicon': 'positive'}"
      ]
     },
     "execution_count": 4,
     "metadata": {},
     "output_type": "execute_result"
    }
   ],
   "source": [
    "list_synsets[0]"
   ]
  },
  {
   "cell_type": "code",
   "execution_count": 5,
   "metadata": {},
   "outputs": [
    {
     "data": {
      "text/plain": [
       "1511"
      ]
     },
     "execution_count": 5,
     "metadata": {},
     "output_type": "execute_result"
    }
   ],
   "source": [
    "count_positive = sum(1 for synset in list_synsets if synset['sentiment_lexicon'] == 'positive')\n",
    "count_positive\n"
   ]
  },
  {
   "cell_type": "code",
   "execution_count": 6,
   "metadata": {},
   "outputs": [
    {
     "data": {
      "text/plain": [
       "1445"
      ]
     },
     "execution_count": 6,
     "metadata": {},
     "output_type": "execute_result"
    }
   ],
   "source": [
    "coount_negative = sum(1 for synset in list_synsets if synset['sentiment_lexicon'] == 'negative')\n",
    "coount_negative"
   ]
  },
  {
   "cell_type": "code",
   "execution_count": 7,
   "metadata": {},
   "outputs": [],
   "source": [
    "import pandas as pd\n"
   ]
  },
  {
   "cell_type": "code",
   "execution_count": 8,
   "metadata": {},
   "outputs": [
    {
     "data": {
      "text/html": [
       "<div>\n",
       "<style scoped>\n",
       "    .dataframe tbody tr th:only-of-type {\n",
       "        vertical-align: middle;\n",
       "    }\n",
       "\n",
       "    .dataframe tbody tr th {\n",
       "        vertical-align: top;\n",
       "    }\n",
       "\n",
       "    .dataframe thead th {\n",
       "        text-align: right;\n",
       "    }\n",
       "</style>\n",
       "<table border=\"1\" class=\"dataframe\">\n",
       "  <thead>\n",
       "    <tr style=\"text-align: right;\">\n",
       "      <th></th>\n",
       "      <th>ILI</th>\n",
       "      <th>definition</th>\n",
       "      <th>lemma_names</th>\n",
       "      <th>sentiment_SWN</th>\n",
       "      <th>sentiment_lexicon</th>\n",
       "      <th>sentiment_sa</th>\n",
       "    </tr>\n",
       "  </thead>\n",
       "  <tbody>\n",
       "    <tr>\n",
       "      <th>0</th>\n",
       "      <td>ENG30-00200863-v</td>\n",
       "      <td>izbaciti ili eliminisati (ukloniti)</td>\n",
       "      <td>['izbaciti iz teksta', 'brisati']</td>\n",
       "      <td>(0.0, 0.0)</td>\n",
       "      <td>negative</td>\n",
       "      <td>Negativan</td>\n",
       "    </tr>\n",
       "    <tr>\n",
       "      <th>1</th>\n",
       "      <td>ENG30-01237901-v</td>\n",
       "      <td>kamo ne uspeti stići</td>\n",
       "      <td>['propuštati', 'propustiti']</td>\n",
       "      <td>(0.0, 0.0)</td>\n",
       "      <td>negative</td>\n",
       "      <td>Negativan</td>\n",
       "    </tr>\n",
       "    <tr>\n",
       "      <th>2</th>\n",
       "      <td>ENG30-08386555-n</td>\n",
       "      <td>grupa ili klasa ljudi koji uživaju najviši int...</td>\n",
       "      <td>['elita']</td>\n",
       "      <td>(0.0, 0.0)</td>\n",
       "      <td>positive</td>\n",
       "      <td>Objektivan</td>\n",
       "    </tr>\n",
       "    <tr>\n",
       "      <th>3</th>\n",
       "      <td>ENG30-03829563-n</td>\n",
       "      <td>Petlja napravljena od konopca pomoću kliznog č...</td>\n",
       "      <td>['omča']</td>\n",
       "      <td>(0.0, 0.0)</td>\n",
       "      <td>negative</td>\n",
       "      <td>Objektivan</td>\n",
       "    </tr>\n",
       "    <tr>\n",
       "      <th>4</th>\n",
       "      <td>ENG30-00625393-a</td>\n",
       "      <td>koji postoji u stvarnosti, uzet iz života</td>\n",
       "      <td>['stvaran', 'realan', 'materijalan']</td>\n",
       "      <td>(0.0, 0.0)</td>\n",
       "      <td>positive</td>\n",
       "      <td>Objektivan</td>\n",
       "    </tr>\n",
       "    <tr>\n",
       "      <th>...</th>\n",
       "      <td>...</td>\n",
       "      <td>...</td>\n",
       "      <td>...</td>\n",
       "      <td>...</td>\n",
       "      <td>...</td>\n",
       "      <td>...</td>\n",
       "    </tr>\n",
       "    <tr>\n",
       "      <th>495</th>\n",
       "      <td>ENG30-03592245-n</td>\n",
       "      <td>kazneno-popravna ustanova koja se koristi za z...</td>\n",
       "      <td>['ćorka', 'tamnica', 'zatvor']</td>\n",
       "      <td>(0.0, 0.0)</td>\n",
       "      <td>negative</td>\n",
       "      <td>Negativan</td>\n",
       "    </tr>\n",
       "    <tr>\n",
       "      <th>496</th>\n",
       "      <td>ENG30-01982646-a</td>\n",
       "      <td>koji ima dobru reputaciju</td>\n",
       "      <td>['na dobrom glasu', 'pouzdan', 'ugledan']</td>\n",
       "      <td>(0.0, 0.0)</td>\n",
       "      <td>positive</td>\n",
       "      <td>Odgovor:</td>\n",
       "    </tr>\n",
       "    <tr>\n",
       "      <th>497</th>\n",
       "      <td>ENG30-01176431-n</td>\n",
       "      <td>bučna tuča u gomili</td>\n",
       "      <td>['metež', 'svađa']</td>\n",
       "      <td>(0.0, 0.0)</td>\n",
       "      <td>negative</td>\n",
       "      <td>Negativan</td>\n",
       "    </tr>\n",
       "    <tr>\n",
       "      <th>498</th>\n",
       "      <td>ENG30-01064148-n</td>\n",
       "      <td>sloboda od bilo kakve aktivnosti (rada ili nap...</td>\n",
       "      <td>['mir', 'mirovanje', 'odmor', 'opuštanje', 're...</td>\n",
       "      <td>(0.0, 0.0)</td>\n",
       "      <td>positive</td>\n",
       "      <td>Neutralan</td>\n",
       "    </tr>\n",
       "    <tr>\n",
       "      <th>499</th>\n",
       "      <td>ENG30-04442831-n</td>\n",
       "      <td>Lišće duvanske biljke osušeno i pripremljeno z...</td>\n",
       "      <td>['duvan', 'tutun']</td>\n",
       "      <td>(0.0, 0.0)</td>\n",
       "      <td>negative</td>\n",
       "      <td>Objektivan</td>\n",
       "    </tr>\n",
       "  </tbody>\n",
       "</table>\n",
       "<p>500 rows × 6 columns</p>\n",
       "</div>"
      ],
      "text/plain": [
       "                  ILI                                         definition  \\\n",
       "0    ENG30-00200863-v                izbaciti ili eliminisati (ukloniti)   \n",
       "1    ENG30-01237901-v                               kamo ne uspeti stići   \n",
       "2    ENG30-08386555-n  grupa ili klasa ljudi koji uživaju najviši int...   \n",
       "3    ENG30-03829563-n  Petlja napravljena od konopca pomoću kliznog č...   \n",
       "4    ENG30-00625393-a          koji postoji u stvarnosti, uzet iz života   \n",
       "..                ...                                                ...   \n",
       "495  ENG30-03592245-n  kazneno-popravna ustanova koja se koristi za z...   \n",
       "496  ENG30-01982646-a                          koji ima dobru reputaciju   \n",
       "497  ENG30-01176431-n                                bučna tuča u gomili   \n",
       "498  ENG30-01064148-n  sloboda od bilo kakve aktivnosti (rada ili nap...   \n",
       "499  ENG30-04442831-n  Lišće duvanske biljke osušeno i pripremljeno z...   \n",
       "\n",
       "                                           lemma_names sentiment_SWN  \\\n",
       "0                    ['izbaciti iz teksta', 'brisati']    (0.0, 0.0)   \n",
       "1                         ['propuštati', 'propustiti']    (0.0, 0.0)   \n",
       "2                                            ['elita']    (0.0, 0.0)   \n",
       "3                                             ['omča']    (0.0, 0.0)   \n",
       "4                 ['stvaran', 'realan', 'materijalan']    (0.0, 0.0)   \n",
       "..                                                 ...           ...   \n",
       "495                     ['ćorka', 'tamnica', 'zatvor']    (0.0, 0.0)   \n",
       "496          ['na dobrom glasu', 'pouzdan', 'ugledan']    (0.0, 0.0)   \n",
       "497                                 ['metež', 'svađa']    (0.0, 0.0)   \n",
       "498  ['mir', 'mirovanje', 'odmor', 'opuštanje', 're...    (0.0, 0.0)   \n",
       "499                                 ['duvan', 'tutun']    (0.0, 0.0)   \n",
       "\n",
       "    sentiment_lexicon sentiment_sa  \n",
       "0            negative    Negativan  \n",
       "1            negative    Negativan  \n",
       "2            positive   Objektivan  \n",
       "3            negative   Objektivan  \n",
       "4            positive   Objektivan  \n",
       "..                ...          ...  \n",
       "495          negative    Negativan  \n",
       "496          positive     Odgovor:  \n",
       "497          negative    Negativan  \n",
       "498          positive    Neutralan  \n",
       "499          negative   Objektivan  \n",
       "\n",
       "[500 rows x 6 columns]"
      ]
     },
     "execution_count": 8,
     "metadata": {},
     "output_type": "execute_result"
    }
   ],
   "source": [
    "sample_synsets = pd.read_csv('sample_synsets2_fix.csv')\n",
    "sample_synsets "
   ]
  },
  {
   "cell_type": "code",
   "execution_count": 9,
   "metadata": {},
   "outputs": [
    {
     "data": {
      "text/plain": [
       "sentiment_sa\n",
       "Objektivan     290\n",
       "Negativan      102\n",
       "Pozitivan       33\n",
       "Neutralan       31\n",
       "Odgovor         10\n",
       "Objektan        10\n",
       "Odgovor:         7\n",
       "Nemožem          4\n",
       "Objašn           3\n",
       "Objectivan       3\n",
       "Nepostojido      2\n",
       "Negativan-       2\n",
       "(Objektivan      2\n",
       "Answer:obj       1\n",
       "Name: count, dtype: int64"
      ]
     },
     "execution_count": 9,
     "metadata": {},
     "output_type": "execute_result"
    }
   ],
   "source": [
    "sample_synsets['sentiment_sa'].value_counts()\n"
   ]
  },
  {
   "cell_type": "code",
   "execution_count": 10,
   "metadata": {},
   "outputs": [],
   "source": [
    "sample_synsets.drop_duplicates(subset='ILI', inplace=True)\n"
   ]
  },
  {
   "cell_type": "code",
   "execution_count": 11,
   "metadata": {},
   "outputs": [
    {
     "data": {
      "text/plain": [
       "sentiment_sa\n",
       "Objektivan     279\n",
       "Negativan       97\n",
       "Neutralan       29\n",
       "Pozitivan       27\n",
       "Objektan        10\n",
       "Odgovor          9\n",
       "Odgovor:         7\n",
       "Nemožem          4\n",
       "Objašn           3\n",
       "Objectivan       3\n",
       "Nepostojido      2\n",
       "Negativan-       2\n",
       "(Objektivan      2\n",
       "Answer:obj       1\n",
       "Name: count, dtype: int64"
      ]
     },
     "execution_count": 11,
     "metadata": {},
     "output_type": "execute_result"
    }
   ],
   "source": [
    "sample_synsets['sentiment_sa'].value_counts()\n"
   ]
  },
  {
   "cell_type": "code",
   "execution_count": 12,
   "metadata": {},
   "outputs": [
    {
     "data": {
      "text/plain": [
       "475"
      ]
     },
     "execution_count": 12,
     "metadata": {},
     "output_type": "execute_result"
    }
   ],
   "source": [
    "num_rows = sample_synsets.shape[0]\n",
    "num_rows\n"
   ]
  }
 ],
 "metadata": {
  "kernelspec": {
   "display_name": "env",
   "language": "python",
   "name": "python3"
  },
  "language_info": {
   "codemirror_mode": {
    "name": "ipython",
    "version": 3
   },
   "file_extension": ".py",
   "mimetype": "text/x-python",
   "name": "python",
   "nbconvert_exporter": "python",
   "pygments_lexer": "ipython3",
   "version": "3.11.7"
  }
 },
 "nbformat": 4,
 "nbformat_minor": 2
}
